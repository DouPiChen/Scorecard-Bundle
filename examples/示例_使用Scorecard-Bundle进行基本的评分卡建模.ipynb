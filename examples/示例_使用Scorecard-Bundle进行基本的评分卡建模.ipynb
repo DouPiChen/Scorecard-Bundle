{
 "cells": [
  {
   "cell_type": "markdown",
   "metadata": {},
   "source": [
    "# 示例_使用**<font color=#B22222>Scorecard-Bundle<font>**进行基本的评分卡建模"
   ]
  },
  {
   "cell_type": "markdown",
   "metadata": {
    "toc": true
   },
   "source": [
    "<h1>目录<span class=\"tocSkip\"></span></h1>\n",
    "<div class=\"toc\"><ul class=\"toc-item\"><li><span><a href=\"#数据准备\" data-toc-modified-id=\"数据准备-1\"><span class=\"toc-item-num\">1&nbsp;&nbsp;</span>数据准备</a></span><ul class=\"toc-item\"><li><span><a href=\"#下载样例数据\" data-toc-modified-id=\"下载样例数据-1.1\"><span class=\"toc-item-num\">1.1&nbsp;&nbsp;</span>下载样例数据</a></span></li><li><span><a href=\"#处理分类型变量及缺失值\" data-toc-modified-id=\"处理分类型变量及缺失值-1.2\"><span class=\"toc-item-num\">1.2&nbsp;&nbsp;</span>处理分类型变量及缺失值</a></span></li><li><span><a href=\"#定义特征和建模目标\" data-toc-modified-id=\"定义特征和建模目标-1.3\"><span class=\"toc-item-num\">1.3&nbsp;&nbsp;</span>定义特征和建模目标</a></span></li></ul></li><li><span><a href=\"#评分卡模型\" data-toc-modified-id=\"评分卡模型-2\"><span class=\"toc-item-num\">2&nbsp;&nbsp;</span>评分卡模型</a></span><ul class=\"toc-item\"><li><span><a href=\"#特征离散化（基于ChiMerge）\" data-toc-modified-id=\"特征离散化（基于ChiMerge）-2.1\"><span class=\"toc-item-num\">2.1&nbsp;&nbsp;</span>特征离散化（基于ChiMerge）</a></span></li><li><span><a href=\"#特征编码（基于证据权重WOE）\" data-toc-modified-id=\"特征编码（基于证据权重WOE）-2.2\"><span class=\"toc-item-num\">2.2&nbsp;&nbsp;</span>特征编码（基于证据权重WOE）</a></span></li><li><span><a href=\"#特征选择\" data-toc-modified-id=\"特征选择-2.3\"><span class=\"toc-item-num\">2.3&nbsp;&nbsp;</span>特征选择</a></span></li><li><span><a href=\"#模型训练\" data-toc-modified-id=\"模型训练-2.4\"><span class=\"toc-item-num\">2.4&nbsp;&nbsp;</span>模型训练</a></span></li><li><span><a href=\"#模型评估\" data-toc-modified-id=\"模型评估-2.5\"><span class=\"toc-item-num\">2.5&nbsp;&nbsp;</span>模型评估</a></span></li></ul></li></ul></div>"
   ]
  },
  {
   "cell_type": "markdown",
   "metadata": {},
   "source": [
    "## 数据准备"
   ]
  },
  {
   "cell_type": "markdown",
   "metadata": {},
   "source": [
    "### 下载样例数据"
   ]
  },
  {
   "cell_type": "code",
   "execution_count": 1,
   "metadata": {
    "ExecuteTime": {
     "end_time": "2019-08-11T14:14:29.545725Z",
     "start_time": "2019-08-11T14:14:14.708285Z"
    },
    "collapsed": true
   },
   "outputs": [],
   "source": [
    "# The folowing codes for downloading housing price dataset is from \n",
    "# Aurélien Géron's book \"Hands on Machine Learning with Scikit-learn and Tensorflow\"\n",
    "import os\n",
    "import tarfile\n",
    "from six.moves import urllib\n",
    "DOWNLOAD_ROOT = \"https://raw.githubusercontent.com/ageron/handson-ml/master/\"\n",
    "HOUSING_PATH = \"datasets/housing\"\n",
    "HOUSING_URL = DOWNLOAD_ROOT + HOUSING_PATH + \"/housing.tgz\"\n",
    "def fetch_housing_data(housing_url=HOUSING_URL, housing_path=HOUSING_PATH):\n",
    "    if not os.path.isdir(housing_path):\n",
    "        os.makedirs(housing_path)\n",
    "    tgz_path = os.path.join(housing_path, \"housing.tgz\")\n",
    "    urllib.request.urlretrieve(housing_url, tgz_path)\n",
    "    housing_tgz = tarfile.open(tgz_path)\n",
    "    housing_tgz.extractall(path=housing_path)\n",
    "    housing_tgz.close()\n",
    "\n",
    "import pandas as pd\n",
    "def load_housing_data(housing_path=HOUSING_PATH):\n",
    "    csv_path = os.path.join(housing_path, \"housing.csv\")\n",
    "    return pd.read_csv(csv_path)\n",
    "\n",
    "fetch_housing_data()"
   ]
  },
  {
   "cell_type": "code",
   "execution_count": 2,
   "metadata": {
    "ExecuteTime": {
     "end_time": "2019-08-11T14:14:29.950987Z",
     "start_time": "2019-08-11T14:14:29.556707Z"
    }
   },
   "outputs": [
    {
     "name": "stdout",
     "output_type": "stream",
     "text": [
      "Index(['longitude', 'latitude', 'housing_median_age', 'total_rooms',\n",
      "       'total_bedrooms', 'population', 'households', 'median_income',\n",
      "       'median_house_value', 'ocean_proximity'],\n",
      "      dtype='object')\n",
      "shape: (20640, 10)\n"
     ]
    },
    {
     "data": {
      "text/html": [
       "<div>\n",
       "<style scoped>\n",
       "    .dataframe tbody tr th:only-of-type {\n",
       "        vertical-align: middle;\n",
       "    }\n",
       "\n",
       "    .dataframe tbody tr th {\n",
       "        vertical-align: top;\n",
       "    }\n",
       "\n",
       "    .dataframe thead th {\n",
       "        text-align: right;\n",
       "    }\n",
       "</style>\n",
       "<table border=\"1\" class=\"dataframe\">\n",
       "  <thead>\n",
       "    <tr style=\"text-align: right;\">\n",
       "      <th></th>\n",
       "      <th>longitude</th>\n",
       "      <th>latitude</th>\n",
       "      <th>housing_median_age</th>\n",
       "      <th>total_rooms</th>\n",
       "      <th>total_bedrooms</th>\n",
       "      <th>population</th>\n",
       "      <th>households</th>\n",
       "      <th>median_income</th>\n",
       "      <th>median_house_value</th>\n",
       "      <th>ocean_proximity</th>\n",
       "    </tr>\n",
       "  </thead>\n",
       "  <tbody>\n",
       "    <tr>\n",
       "      <th>0</th>\n",
       "      <td>-122.23</td>\n",
       "      <td>37.88</td>\n",
       "      <td>41.0</td>\n",
       "      <td>880.0</td>\n",
       "      <td>129.0</td>\n",
       "      <td>322.0</td>\n",
       "      <td>126.0</td>\n",
       "      <td>8.3252</td>\n",
       "      <td>452600.0</td>\n",
       "      <td>NEAR BAY</td>\n",
       "    </tr>\n",
       "    <tr>\n",
       "      <th>1</th>\n",
       "      <td>-122.22</td>\n",
       "      <td>37.86</td>\n",
       "      <td>21.0</td>\n",
       "      <td>7099.0</td>\n",
       "      <td>1106.0</td>\n",
       "      <td>2401.0</td>\n",
       "      <td>1138.0</td>\n",
       "      <td>8.3014</td>\n",
       "      <td>358500.0</td>\n",
       "      <td>NEAR BAY</td>\n",
       "    </tr>\n",
       "    <tr>\n",
       "      <th>2</th>\n",
       "      <td>-122.24</td>\n",
       "      <td>37.85</td>\n",
       "      <td>52.0</td>\n",
       "      <td>1467.0</td>\n",
       "      <td>190.0</td>\n",
       "      <td>496.0</td>\n",
       "      <td>177.0</td>\n",
       "      <td>7.2574</td>\n",
       "      <td>352100.0</td>\n",
       "      <td>NEAR BAY</td>\n",
       "    </tr>\n",
       "    <tr>\n",
       "      <th>3</th>\n",
       "      <td>-122.25</td>\n",
       "      <td>37.85</td>\n",
       "      <td>52.0</td>\n",
       "      <td>1274.0</td>\n",
       "      <td>235.0</td>\n",
       "      <td>558.0</td>\n",
       "      <td>219.0</td>\n",
       "      <td>5.6431</td>\n",
       "      <td>341300.0</td>\n",
       "      <td>NEAR BAY</td>\n",
       "    </tr>\n",
       "    <tr>\n",
       "      <th>4</th>\n",
       "      <td>-122.25</td>\n",
       "      <td>37.85</td>\n",
       "      <td>52.0</td>\n",
       "      <td>1627.0</td>\n",
       "      <td>280.0</td>\n",
       "      <td>565.0</td>\n",
       "      <td>259.0</td>\n",
       "      <td>3.8462</td>\n",
       "      <td>342200.0</td>\n",
       "      <td>NEAR BAY</td>\n",
       "    </tr>\n",
       "  </tbody>\n",
       "</table>\n",
       "</div>"
      ],
      "text/plain": [
       "   longitude  latitude  housing_median_age  total_rooms  total_bedrooms  \\\n",
       "0    -122.23     37.88                41.0        880.0           129.0   \n",
       "1    -122.22     37.86                21.0       7099.0          1106.0   \n",
       "2    -122.24     37.85                52.0       1467.0           190.0   \n",
       "3    -122.25     37.85                52.0       1274.0           235.0   \n",
       "4    -122.25     37.85                52.0       1627.0           280.0   \n",
       "\n",
       "   population  households  median_income  median_house_value ocean_proximity  \n",
       "0       322.0       126.0         8.3252            452600.0        NEAR BAY  \n",
       "1      2401.0      1138.0         8.3014            358500.0        NEAR BAY  \n",
       "2       496.0       177.0         7.2574            352100.0        NEAR BAY  \n",
       "3       558.0       219.0         5.6431            341300.0        NEAR BAY  \n",
       "4       565.0       259.0         3.8462            342200.0        NEAR BAY  "
      ]
     },
     "execution_count": 2,
     "metadata": {},
     "output_type": "execute_result"
    }
   ],
   "source": [
    "housing = load_housing_data()\n",
    "print(housing.columns)\n",
    "print('shape:',housing.shape)\n",
    "housing.head()"
   ]
  },
  {
   "cell_type": "markdown",
   "metadata": {},
   "source": [
    "### 处理分类型变量及缺失值"
   ]
  },
  {
   "cell_type": "code",
   "execution_count": 3,
   "metadata": {
    "ExecuteTime": {
     "end_time": "2019-08-11T14:15:17.246132Z",
     "start_time": "2019-08-11T14:15:17.225116Z"
    },
    "collapsed": true
   },
   "outputs": [],
   "source": [
    "housing.drop(['ocean_proximity'], axis=1, inplace=True) # 为了简便，去除分类型变量"
   ]
  },
  {
   "cell_type": "code",
   "execution_count": 4,
   "metadata": {
    "ExecuteTime": {
     "end_time": "2019-08-11T14:15:23.025118Z",
     "start_time": "2019-08-11T14:15:22.983088Z"
    }
   },
   "outputs": [
    {
     "data": {
      "text/plain": [
       "longitude               0\n",
       "latitude                0\n",
       "housing_median_age      0\n",
       "total_rooms             0\n",
       "total_bedrooms        207\n",
       "population              0\n",
       "households              0\n",
       "median_income           0\n",
       "median_house_value      0\n",
       "dtype: int64"
      ]
     },
     "execution_count": 4,
     "metadata": {},
     "output_type": "execute_result"
    }
   ],
   "source": [
    "housing.isna().sum() # 查看缺失情况"
   ]
  },
  {
   "cell_type": "code",
   "execution_count": 5,
   "metadata": {
    "ExecuteTime": {
     "end_time": "2019-08-11T14:15:29.541621Z",
     "start_time": "2019-08-11T14:15:29.517603Z"
    },
    "collapsed": true
   },
   "outputs": [],
   "source": [
    "housing.fillna(value=housing.total_bedrooms.median(), inplace=True) # 为了简便，将缺失的total_bedrooms赋值为其中位数"
   ]
  },
  {
   "cell_type": "markdown",
   "metadata": {},
   "source": [
    "### 定义特征和建模目标"
   ]
  },
  {
   "cell_type": "markdown",
   "metadata": {},
   "source": [
    "- 设`median_house_value`为目标，其他列为特征；\n",
    "\n",
    "\n",
    "- 为了简便，不区分训练集和测试集合；\n",
    "\n",
    "\n",
    "- 设`median_house_value`大于其90%分位数时y=1，否则y=0;"
   ]
  },
  {
   "cell_type": "code",
   "execution_count": 6,
   "metadata": {
    "ExecuteTime": {
     "end_time": "2019-08-11T14:18:12.079657Z",
     "start_time": "2019-08-11T14:18:10.048455Z"
    }
   },
   "outputs": [
    {
     "data": {
      "image/png": "[encoded data removed]",
      "text/plain": [
       "<matplotlib.figure.Figure at 0x2192aa2ecf8>"
      ]
     },
     "metadata": {},
     "output_type": "display_data"
    }
   ],
   "source": [
    "import matplotlib.pyplot as plt\n",
    "plt.style.use('seaborn-colorblind') # Set style for matplotlib\n",
    "plt.rcParams['savefig.dpi'] = 300 # dpi of diagrams\n",
    "plt.rcParams['figure.dpi'] = 120\n",
    "\n",
    "housing.median_house_value.hist(bins=30)\n",
    "plt.axvline(x=housing.median_house_value.quantile(0.9), c='r', alpha=0.5)\n",
    "plt.annotate(s='Q90',xy=(housing.median_house_value.quantile(0.9),1200),\n",
    "            xytext=(housing.median_house_value.quantile(0.9)+50000,1300),\n",
    "            arrowprops={'arrowstyle':'->'})\n",
    "plt.title('Distribution of median house value')\n",
    "plt.ylabel('Frequency')\n",
    "plt.xlabel('Median house value')\n",
    "plt.show()"
   ]
  },
  {
   "cell_type": "code",
   "execution_count": 7,
   "metadata": {
    "ExecuteTime": {
     "end_time": "2019-08-11T14:18:18.815849Z",
     "start_time": "2019-08-11T14:18:18.711748Z"
    },
    "collapsed": true
   },
   "outputs": [],
   "source": [
    "features = list(set(housing.columns) - set(['median_house_value'])) # feature name list\n",
    "q90 = housing.median_house_value.quantile(0.9)\n",
    "X, y = housing[features], housing.median_house_value.map(lambda x: 1 if x>q90 else 0)"
   ]
  },
  {
   "cell_type": "markdown",
   "metadata": {},
   "source": [
    "## 评分卡模型"
   ]
  },
  {
   "cell_type": "code",
   "execution_count": 8,
   "metadata": {
    "ExecuteTime": {
     "end_time": "2019-08-11T14:18:44.261534Z",
     "start_time": "2019-08-11T14:18:41.812803Z"
    },
    "collapsed": true
   },
   "outputs": [],
   "source": [
    "import sys\n",
    "sys.path.append('E:\\Github\\Scorecard-Bundle')\n",
    "from scorecardbundle.feature_discretization import ChiMerge as cm\n",
    "from scorecardbundle.feature_encoding import WOE as woe\n",
    "from scorecardbundle.model_training import LogisticRegressionScoreCard as lrsc\n",
    "from scorecardbundle.model_evaluation import ModelEvaluation as me"
   ]
  },
  {
   "cell_type": "markdown",
   "metadata": {},
   "source": [
    "### 特征离散化（基于ChiMerge）"
   ]
  },
  {
   "cell_type": "code",
   "execution_count": 9,
   "metadata": {
    "ExecuteTime": {
     "end_time": "2019-08-11T14:28:45.311734Z",
     "start_time": "2019-08-11T14:18:51.895916Z"
    }
   },
   "outputs": [
    {
     "data": {
      "text/html": [
       "<div>\n",
       "<style scoped>\n",
       "    .dataframe tbody tr th:only-of-type {\n",
       "        vertical-align: middle;\n",
       "    }\n",
       "\n",
       "    .dataframe tbody tr th {\n",
       "        vertical-align: top;\n",
       "    }\n",
       "\n",
       "    .dataframe thead th {\n",
       "        text-align: right;\n",
       "    }\n",
       "</style>\n",
       "<table border=\"1\" class=\"dataframe\">\n",
       "  <thead>\n",
       "    <tr style=\"text-align: right;\">\n",
       "      <th></th>\n",
       "      <th>longitude</th>\n",
       "      <th>latitude</th>\n",
       "      <th>population</th>\n",
       "      <th>total_bedrooms</th>\n",
       "      <th>total_rooms</th>\n",
       "      <th>households</th>\n",
       "      <th>housing_median_age</th>\n",
       "      <th>median_income</th>\n",
       "    </tr>\n",
       "  </thead>\n",
       "  <tbody>\n",
       "    <tr>\n",
       "      <th>0</th>\n",
       "      <td>-122.62~-121.58000000000001</td>\n",
       "      <td>37.6~37.99</td>\n",
       "      <td>-inf~873.0</td>\n",
       "      <td>-inf~335.0</td>\n",
       "      <td>319.0~1176.0</td>\n",
       "      <td>-inf~248.0</td>\n",
       "      <td>36.0~51.0</td>\n",
       "      <td>7.7197~inf</td>\n",
       "    </tr>\n",
       "    <tr>\n",
       "      <th>1</th>\n",
       "      <td>-122.62~-121.58000000000001</td>\n",
       "      <td>37.6~37.99</td>\n",
       "      <td>1529.0~3570.0</td>\n",
       "      <td>685.0~2216.270000000004</td>\n",
       "      <td>2657.0~inf</td>\n",
       "      <td>853.0~1257.4399999999987</td>\n",
       "      <td>19.0~36.0</td>\n",
       "      <td>7.7197~inf</td>\n",
       "    </tr>\n",
       "    <tr>\n",
       "      <th>2</th>\n",
       "      <td>-122.62~-121.58000000000001</td>\n",
       "      <td>37.6~37.99</td>\n",
       "      <td>-inf~873.0</td>\n",
       "      <td>-inf~335.0</td>\n",
       "      <td>1176.0~2012.0</td>\n",
       "      <td>-inf~248.0</td>\n",
       "      <td>51.0~52.0</td>\n",
       "      <td>5.753465~7.7197</td>\n",
       "    </tr>\n",
       "    <tr>\n",
       "      <th>3</th>\n",
       "      <td>-122.62~-121.58000000000001</td>\n",
       "      <td>37.6~37.99</td>\n",
       "      <td>-inf~873.0</td>\n",
       "      <td>-inf~335.0</td>\n",
       "      <td>1176.0~2012.0</td>\n",
       "      <td>-inf~248.0</td>\n",
       "      <td>51.0~52.0</td>\n",
       "      <td>3.9669399999999992~5.753465</td>\n",
       "    </tr>\n",
       "    <tr>\n",
       "      <th>4</th>\n",
       "      <td>-122.62~-121.58000000000001</td>\n",
       "      <td>37.6~37.99</td>\n",
       "      <td>-inf~873.0</td>\n",
       "      <td>-inf~335.0</td>\n",
       "      <td>1176.0~2012.0</td>\n",
       "      <td>248.0~260.0</td>\n",
       "      <td>51.0~52.0</td>\n",
       "      <td>3.0083~3.9669399999999992</td>\n",
       "    </tr>\n",
       "  </tbody>\n",
       "</table>\n",
       "</div>"
      ],
      "text/plain": [
       "                     longitude    latitude     population  \\\n",
       "0  -122.62~-121.58000000000001  37.6~37.99     -inf~873.0   \n",
       "1  -122.62~-121.58000000000001  37.6~37.99  1529.0~3570.0   \n",
       "2  -122.62~-121.58000000000001  37.6~37.99     -inf~873.0   \n",
       "3  -122.62~-121.58000000000001  37.6~37.99     -inf~873.0   \n",
       "4  -122.62~-121.58000000000001  37.6~37.99     -inf~873.0   \n",
       "\n",
       "            total_bedrooms    total_rooms                households  \\\n",
       "0               -inf~335.0   319.0~1176.0                -inf~248.0   \n",
       "1  685.0~2216.270000000004     2657.0~inf  853.0~1257.4399999999987   \n",
       "2               -inf~335.0  1176.0~2012.0                -inf~248.0   \n",
       "3               -inf~335.0  1176.0~2012.0                -inf~248.0   \n",
       "4               -inf~335.0  1176.0~2012.0               248.0~260.0   \n",
       "\n",
       "  housing_median_age                median_income  \n",
       "0          36.0~51.0                   7.7197~inf  \n",
       "1          19.0~36.0                   7.7197~inf  \n",
       "2          51.0~52.0              5.753465~7.7197  \n",
       "3          51.0~52.0  3.9669399999999992~5.753465  \n",
       "4          51.0~52.0    3.0083~3.9669399999999992  "
      ]
     },
     "execution_count": 9,
     "metadata": {},
     "output_type": "execute_result"
    }
   ],
   "source": [
    "trans_cm = cm.ChiMerge(max_intervals=5, min_intervals=2, output_dataframe=True)\n",
    "result_cm = trans_cm.fit_transform(X, y) # ChiMerge运行较慢. 在20,000个样本、8个特征上训练约需10分钟 \n",
    "result_cm.head()"
   ]
  },
  {
   "cell_type": "code",
   "execution_count": 11,
   "metadata": {
    "ExecuteTime": {
     "end_time": "2019-08-11T14:49:44.498530Z",
     "start_time": "2019-08-11T14:49:44.441517Z"
    }
   },
   "outputs": [
    {
     "data": {
      "text/plain": [
       "{'households': array([ 248.  ,  260.  ,  853.  , 1257.44,     inf]),\n",
       " 'housing_median_age': array([ 9., 19., 36., 51., 52.]),\n",
       " 'latitude': array([34.49, 36.97, 37.6 , 37.99,   inf]),\n",
       " 'longitude': array([-122.62, -121.58, -118.98, -118.37,     inf]),\n",
       " 'median_income': array([3.0083  , 3.96694 , 5.753465, 7.7197  ,      inf]),\n",
       " 'population': array([ 873.,  992., 1529., 3570.,   inf]),\n",
       " 'total_bedrooms': array([ 335.  ,  341.  ,  685.  , 2216.27,     inf]),\n",
       " 'total_rooms': array([ 319., 1176., 2012., 2657.,   inf])}"
      ]
     },
     "execution_count": 11,
     "metadata": {},
     "output_type": "execute_result"
    }
   ],
   "source": [
    "trans_cm.boundaries_ # 每个特征的区间切分"
   ]
  },
  {
   "cell_type": "markdown",
   "metadata": {},
   "source": [
    "### 特征编码（基于证据权重WOE）"
   ]
  },
  {
   "cell_type": "code",
   "execution_count": 12,
   "metadata": {
    "ExecuteTime": {
     "end_time": "2019-08-11T14:50:56.006118Z",
     "start_time": "2019-08-11T14:50:55.049552Z"
    }
   },
   "outputs": [
    {
     "data": {
      "text/html": [
       "<div>\n",
       "<style scoped>\n",
       "    .dataframe tbody tr th:only-of-type {\n",
       "        vertical-align: middle;\n",
       "    }\n",
       "\n",
       "    .dataframe tbody tr th {\n",
       "        vertical-align: top;\n",
       "    }\n",
       "\n",
       "    .dataframe thead th {\n",
       "        text-align: right;\n",
       "    }\n",
       "</style>\n",
       "<table border=\"1\" class=\"dataframe\">\n",
       "  <thead>\n",
       "    <tr style=\"text-align: right;\">\n",
       "      <th></th>\n",
       "      <th>longitude</th>\n",
       "      <th>latitude</th>\n",
       "      <th>population</th>\n",
       "      <th>total_bedrooms</th>\n",
       "      <th>total_rooms</th>\n",
       "      <th>households</th>\n",
       "      <th>housing_median_age</th>\n",
       "      <th>median_income</th>\n",
       "    </tr>\n",
       "  </thead>\n",
       "  <tbody>\n",
       "    <tr>\n",
       "      <th>0</th>\n",
       "      <td>0.54122</td>\n",
       "      <td>0.304771</td>\n",
       "      <td>0.322442</td>\n",
       "      <td>0.053637</td>\n",
       "      <td>-0.695164</td>\n",
       "      <td>0.018522</td>\n",
       "      <td>0.123922</td>\n",
       "      <td>3.808660</td>\n",
       "    </tr>\n",
       "    <tr>\n",
       "      <th>1</th>\n",
       "      <td>0.54122</td>\n",
       "      <td>0.304771</td>\n",
       "      <td>-0.325632</td>\n",
       "      <td>0.090923</td>\n",
       "      <td>0.314325</td>\n",
       "      <td>0.237510</td>\n",
       "      <td>-0.033261</td>\n",
       "      <td>3.808660</td>\n",
       "    </tr>\n",
       "    <tr>\n",
       "      <th>2</th>\n",
       "      <td>0.54122</td>\n",
       "      <td>0.304771</td>\n",
       "      <td>0.322442</td>\n",
       "      <td>0.053637</td>\n",
       "      <td>-0.234270</td>\n",
       "      <td>0.018522</td>\n",
       "      <td>1.127234</td>\n",
       "      <td>1.295348</td>\n",
       "    </tr>\n",
       "    <tr>\n",
       "      <th>3</th>\n",
       "      <td>0.54122</td>\n",
       "      <td>0.304771</td>\n",
       "      <td>0.322442</td>\n",
       "      <td>0.053637</td>\n",
       "      <td>-0.234270</td>\n",
       "      <td>0.018522</td>\n",
       "      <td>1.127234</td>\n",
       "      <td>-0.075948</td>\n",
       "    </tr>\n",
       "    <tr>\n",
       "      <th>4</th>\n",
       "      <td>0.54122</td>\n",
       "      <td>0.304771</td>\n",
       "      <td>0.322442</td>\n",
       "      <td>0.053637</td>\n",
       "      <td>-0.234270</td>\n",
       "      <td>0.442561</td>\n",
       "      <td>1.127234</td>\n",
       "      <td>-0.870713</td>\n",
       "    </tr>\n",
       "  </tbody>\n",
       "</table>\n",
       "</div>"
      ],
      "text/plain": [
       "   longitude  latitude  population  total_bedrooms  total_rooms  households  \\\n",
       "0    0.54122  0.304771    0.322442        0.053637    -0.695164    0.018522   \n",
       "1    0.54122  0.304771   -0.325632        0.090923     0.314325    0.237510   \n",
       "2    0.54122  0.304771    0.322442        0.053637    -0.234270    0.018522   \n",
       "3    0.54122  0.304771    0.322442        0.053637    -0.234270    0.018522   \n",
       "4    0.54122  0.304771    0.322442        0.053637    -0.234270    0.442561   \n",
       "\n",
       "   housing_median_age  median_income  \n",
       "0            0.123922       3.808660  \n",
       "1           -0.033261       3.808660  \n",
       "2            1.127234       1.295348  \n",
       "3            1.127234      -0.075948  \n",
       "4            1.127234      -0.870713  "
      ]
     },
     "execution_count": 12,
     "metadata": {},
     "output_type": "execute_result"
    }
   ],
   "source": [
    "trans_woe = woe.WOE_Encoder(output_dataframe=True)\n",
    "result_woe = trans_woe.fit_transform(result_cm, y) # WOE运行很快，此任务仅需1秒\n",
    "result_woe.head()"
   ]
  },
  {
   "cell_type": "code",
   "execution_count": 13,
   "metadata": {
    "ExecuteTime": {
     "end_time": "2019-08-11T14:51:19.822406Z",
     "start_time": "2019-08-11T14:51:19.802384Z"
    }
   },
   "outputs": [
    {
     "data": {
      "text/plain": [
       "{'households': 0.0135796280489273,\n",
       " 'housing_median_age': 0.19060315707077985,\n",
       " 'latitude': 0.7183847080349024,\n",
       " 'longitude': 0.7654090245162248,\n",
       " 'median_income': 2.3397193770128966,\n",
       " 'population': 0.08695555095576324,\n",
       " 'total_bedrooms': 0.013541575632127906,\n",
       " 'total_rooms': 0.10662402115734344}"
      ]
     },
     "execution_count": 13,
     "metadata": {},
     "output_type": "execute_result"
    }
   ],
   "source": [
    "trans_woe.iv_ # 每个特征的信息值 (iv) "
   ]
  },
  {
   "cell_type": "code",
   "execution_count": 14,
   "metadata": {
    "ExecuteTime": {
     "end_time": "2019-08-11T14:52:00.055611Z",
     "start_time": "2019-08-11T14:52:00.026591Z"
    },
    "scrolled": true
   },
   "outputs": [
    {
     "data": {
      "text/plain": [
       "{'households': ({'-inf~248.0': 0.01852150817161554,\n",
       "   '1257.4399999999987~inf': -0.3136703825650484,\n",
       "   '248.0~260.0': 0.4425611479893831,\n",
       "   '260.0~853.0': -0.032828802944417854,\n",
       "   '853.0~1257.4399999999987': 0.2375099970837297},\n",
       "  0.0135796280489273),\n",
       " 'housing_median_age': ({'-inf~9.0': -0.23835346407206823,\n",
       "   '19.0~36.0': -0.03326078999759868,\n",
       "   '36.0~51.0': 0.12392224123497612,\n",
       "   '51.0~52.0': 1.1272337015266705,\n",
       "   '9.0~19.0': -0.607474853400939},\n",
       "  0.19060315707077985),\n",
       " 'latitude': ({'-inf~34.49': 0.14396913031389935,\n",
       "   '34.49~36.97': -1.7569264297479703,\n",
       "   '36.97~37.6': 0.931717788490672,\n",
       "   '37.6~37.99': 0.3047708625525933,\n",
       "   '37.99~inf': -2.7389973720452145},\n",
       "  0.7183847080349024),\n",
       " 'longitude': ({'-118.37~inf': -0.3775625638820992,\n",
       "   '-118.97999999999999~-118.37': 1.3515459501394256,\n",
       "   '-121.58000000000001~-118.97999999999999': -1.6298897437321815,\n",
       "   '-122.62~-121.58000000000001': 0.5412198652392345,\n",
       "   '-inf~-122.62': -2.6289494331299},\n",
       "  0.7654090245162248),\n",
       " 'median_income': ({'-inf~3.0083': -2.097070400737622,\n",
       "   '3.0083~3.9669399999999992': -0.8707126570874082,\n",
       "   '3.9669399999999992~5.753465': -0.07594765036737029,\n",
       "   '5.753465~7.7197': 1.2953483794588834,\n",
       "   '7.7197~inf': 3.808659723318916},\n",
       "  2.3397193770128966),\n",
       " 'population': ({'-inf~873.0': 0.3224417793753003,\n",
       "   '1529.0~3570.0': -0.3256318994038957,\n",
       "   '3570.0~inf': -0.8595473141174292,\n",
       "   '873.0~992.0': 0.13994394383986966,\n",
       "   '992.0~1529.0': -0.07486068372613865},\n",
       "  0.08695555095576324),\n",
       " 'total_bedrooms': ({'-inf~335.0': 0.05363662574426767,\n",
       "   '2216.270000000004~inf': -0.8932794316948403,\n",
       "   '335.0~341.0': -0.6691884620736074,\n",
       "   '341.0~685.0': -0.05794484918568975,\n",
       "   '685.0~2216.270000000004': 0.09092250564300006},\n",
       "  0.013541575632127906),\n",
       " 'total_rooms': ({'-inf~319.0': -0.037613321777362395,\n",
       "   '1176.0~2012.0': -0.2342701386348836,\n",
       "   '2012.0~2657.0': 0.07215494119163691,\n",
       "   '2657.0~inf': 0.31432487492220645,\n",
       "   '319.0~1176.0': -0.6951639484712919},\n",
       "  0.10662402115734344)}"
      ]
     },
     "execution_count": 14,
     "metadata": {},
     "output_type": "execute_result"
    }
   ],
   "source": [
    "trans_woe.result_dict_ # 每个特征的WOE字典和信息值 (iv) "
   ]
  },
  {
   "cell_type": "markdown",
   "metadata": {},
   "source": [
    "### 特征选择"
   ]
  },
  {
   "cell_type": "markdown",
   "metadata": {},
   "source": [
    "- 特征选择是评分卡建模的***关键步骤***，应至少去除预测力过小的特征（如iv<0.02）并处理共线性问题（例如使用皮尔森相关系数或方差膨胀因子）；\n",
    "\n",
    "\n",
    "- 上述特征筛选尚未在Scorecard-Bundle中部署，但用户可参考如下思路轻松实现：\n",
    "    - 预测力筛选：从`WOE_Encoder`的`iv_`属性中得到特征的信息值；\n",
    "    - 共线性筛选：在经WOE编码的特征数据上使用`pandas.DataFrame.corr()`，识别相关性较强的特征对（例如corr>0.7）,并去除每对特征中的一个（例如预测力弱的那个）；\n",
    "    \n",
    "    \n",
    "- 特征选择模块将在Scorecard-Bundle的2.0版本中部署，同时将增添评价特征可解释性的算法；"
   ]
  },
  {
   "cell_type": "markdown",
   "metadata": {},
   "source": [
    "### 模型训练"
   ]
  },
  {
   "cell_type": "code",
   "execution_count": 15,
   "metadata": {
    "ExecuteTime": {
     "end_time": "2019-08-11T14:58:13.681700Z",
     "start_time": "2019-08-11T14:58:13.023662Z"
    },
    "collapsed": true
   },
   "outputs": [],
   "source": [
    "model = lrsc.LogisticRegressionScoreCard(trans_woe, PDO=-20, basePoints=100, verbose=True)\n",
    "model.fit(result_woe, y)"
   ]
  },
  {
   "cell_type": "markdown",
   "metadata": {},
   "source": [
    "从`woe_df_`属性中可得评分卡规则。"
   ]
  },
  {
   "cell_type": "code",
   "execution_count": 16,
   "metadata": {
    "ExecuteTime": {
     "end_time": "2019-08-11T14:58:23.217399Z",
     "start_time": "2019-08-11T14:58:23.102317Z"
    },
    "scrolled": true
   },
   "outputs": [
    {
     "data": {
      "text/html": [
       "<div>\n",
       "<style scoped>\n",
       "    .dataframe tbody tr th:only-of-type {\n",
       "        vertical-align: middle;\n",
       "    }\n",
       "\n",
       "    .dataframe tbody tr th {\n",
       "        vertical-align: top;\n",
       "    }\n",
       "\n",
       "    .dataframe thead th {\n",
       "        text-align: right;\n",
       "    }\n",
       "</style>\n",
       "<table border=\"1\" class=\"dataframe\">\n",
       "  <thead>\n",
       "    <tr style=\"text-align: right;\">\n",
       "      <th></th>\n",
       "      <th>feature</th>\n",
       "      <th>value</th>\n",
       "      <th>woe</th>\n",
       "      <th>beta</th>\n",
       "      <th>score</th>\n",
       "    </tr>\n",
       "  </thead>\n",
       "  <tbody>\n",
       "    <tr>\n",
       "      <th>0</th>\n",
       "      <td>longitude</td>\n",
       "      <td>-118.37~inf</td>\n",
       "      <td>-0.377563</td>\n",
       "      <td>0.631033</td>\n",
       "      <td>5.0</td>\n",
       "    </tr>\n",
       "    <tr>\n",
       "      <th>1</th>\n",
       "      <td>longitude</td>\n",
       "      <td>-118.97999999999999~-118.37</td>\n",
       "      <td>1.351546</td>\n",
       "      <td>0.631033</td>\n",
       "      <td>37.0</td>\n",
       "    </tr>\n",
       "    <tr>\n",
       "      <th>2</th>\n",
       "      <td>longitude</td>\n",
       "      <td>-121.58000000000001~-118.97999999999999</td>\n",
       "      <td>-1.629890</td>\n",
       "      <td>0.631033</td>\n",
       "      <td>-17.0</td>\n",
       "    </tr>\n",
       "    <tr>\n",
       "      <th>3</th>\n",
       "      <td>longitude</td>\n",
       "      <td>-122.62~-121.58000000000001</td>\n",
       "      <td>0.541220</td>\n",
       "      <td>0.631033</td>\n",
       "      <td>22.0</td>\n",
       "    </tr>\n",
       "    <tr>\n",
       "      <th>4</th>\n",
       "      <td>longitude</td>\n",
       "      <td>-inf~-122.62</td>\n",
       "      <td>-2.628949</td>\n",
       "      <td>0.631033</td>\n",
       "      <td>-36.0</td>\n",
       "    </tr>\n",
       "    <tr>\n",
       "      <th>5</th>\n",
       "      <td>latitude</td>\n",
       "      <td>-inf~34.49</td>\n",
       "      <td>0.143969</td>\n",
       "      <td>0.463244</td>\n",
       "      <td>14.0</td>\n",
       "    </tr>\n",
       "    <tr>\n",
       "      <th>6</th>\n",
       "      <td>latitude</td>\n",
       "      <td>34.49~36.97</td>\n",
       "      <td>-1.756926</td>\n",
       "      <td>0.463244</td>\n",
       "      <td>-11.0</td>\n",
       "    </tr>\n",
       "    <tr>\n",
       "      <th>7</th>\n",
       "      <td>latitude</td>\n",
       "      <td>36.97~37.6</td>\n",
       "      <td>0.931718</td>\n",
       "      <td>0.463244</td>\n",
       "      <td>25.0</td>\n",
       "    </tr>\n",
       "    <tr>\n",
       "      <th>8</th>\n",
       "      <td>latitude</td>\n",
       "      <td>37.6~37.99</td>\n",
       "      <td>0.304771</td>\n",
       "      <td>0.463244</td>\n",
       "      <td>16.0</td>\n",
       "    </tr>\n",
       "    <tr>\n",
       "      <th>9</th>\n",
       "      <td>latitude</td>\n",
       "      <td>37.99~inf</td>\n",
       "      <td>-2.738997</td>\n",
       "      <td>0.463244</td>\n",
       "      <td>-24.0</td>\n",
       "    </tr>\n",
       "    <tr>\n",
       "      <th>10</th>\n",
       "      <td>population</td>\n",
       "      <td>-inf~873.0</td>\n",
       "      <td>0.322442</td>\n",
       "      <td>2.433231</td>\n",
       "      <td>35.0</td>\n",
       "    </tr>\n",
       "    <tr>\n",
       "      <th>11</th>\n",
       "      <td>population</td>\n",
       "      <td>1529.0~3570.0</td>\n",
       "      <td>-0.325632</td>\n",
       "      <td>2.433231</td>\n",
       "      <td>-11.0</td>\n",
       "    </tr>\n",
       "    <tr>\n",
       "      <th>12</th>\n",
       "      <td>population</td>\n",
       "      <td>3570.0~inf</td>\n",
       "      <td>-0.859547</td>\n",
       "      <td>2.433231</td>\n",
       "      <td>-48.0</td>\n",
       "    </tr>\n",
       "    <tr>\n",
       "      <th>13</th>\n",
       "      <td>population</td>\n",
       "      <td>873.0~992.0</td>\n",
       "      <td>0.139944</td>\n",
       "      <td>2.433231</td>\n",
       "      <td>22.0</td>\n",
       "    </tr>\n",
       "    <tr>\n",
       "      <th>14</th>\n",
       "      <td>population</td>\n",
       "      <td>992.0~1529.0</td>\n",
       "      <td>-0.074861</td>\n",
       "      <td>2.433231</td>\n",
       "      <td>7.0</td>\n",
       "    </tr>\n",
       "    <tr>\n",
       "      <th>15</th>\n",
       "      <td>total_bedrooms</td>\n",
       "      <td>-inf~335.0</td>\n",
       "      <td>0.053637</td>\n",
       "      <td>1.444781</td>\n",
       "      <td>14.0</td>\n",
       "    </tr>\n",
       "    <tr>\n",
       "      <th>16</th>\n",
       "      <td>total_bedrooms</td>\n",
       "      <td>2216.270000000004~inf</td>\n",
       "      <td>-0.893279</td>\n",
       "      <td>1.444781</td>\n",
       "      <td>-25.0</td>\n",
       "    </tr>\n",
       "    <tr>\n",
       "      <th>17</th>\n",
       "      <td>total_bedrooms</td>\n",
       "      <td>335.0~341.0</td>\n",
       "      <td>-0.669188</td>\n",
       "      <td>1.444781</td>\n",
       "      <td>-16.0</td>\n",
       "    </tr>\n",
       "    <tr>\n",
       "      <th>18</th>\n",
       "      <td>total_bedrooms</td>\n",
       "      <td>341.0~685.0</td>\n",
       "      <td>-0.057945</td>\n",
       "      <td>1.444781</td>\n",
       "      <td>10.0</td>\n",
       "    </tr>\n",
       "    <tr>\n",
       "      <th>19</th>\n",
       "      <td>total_bedrooms</td>\n",
       "      <td>685.0~2216.270000000004</td>\n",
       "      <td>0.090923</td>\n",
       "      <td>1.444781</td>\n",
       "      <td>16.0</td>\n",
       "    </tr>\n",
       "    <tr>\n",
       "      <th>20</th>\n",
       "      <td>total_rooms</td>\n",
       "      <td>-inf~319.0</td>\n",
       "      <td>-0.037613</td>\n",
       "      <td>2.330646</td>\n",
       "      <td>10.0</td>\n",
       "    </tr>\n",
       "    <tr>\n",
       "      <th>21</th>\n",
       "      <td>total_rooms</td>\n",
       "      <td>1176.0~2012.0</td>\n",
       "      <td>-0.234270</td>\n",
       "      <td>2.330646</td>\n",
       "      <td>-4.0</td>\n",
       "    </tr>\n",
       "    <tr>\n",
       "      <th>22</th>\n",
       "      <td>total_rooms</td>\n",
       "      <td>2012.0~2657.0</td>\n",
       "      <td>0.072155</td>\n",
       "      <td>2.330646</td>\n",
       "      <td>17.0</td>\n",
       "    </tr>\n",
       "    <tr>\n",
       "      <th>23</th>\n",
       "      <td>total_rooms</td>\n",
       "      <td>2657.0~inf</td>\n",
       "      <td>0.314325</td>\n",
       "      <td>2.330646</td>\n",
       "      <td>33.0</td>\n",
       "    </tr>\n",
       "    <tr>\n",
       "      <th>24</th>\n",
       "      <td>total_rooms</td>\n",
       "      <td>319.0~1176.0</td>\n",
       "      <td>-0.695164</td>\n",
       "      <td>2.330646</td>\n",
       "      <td>-34.0</td>\n",
       "    </tr>\n",
       "    <tr>\n",
       "      <th>25</th>\n",
       "      <td>households</td>\n",
       "      <td>-inf~248.0</td>\n",
       "      <td>0.018522</td>\n",
       "      <td>0.535186</td>\n",
       "      <td>13.0</td>\n",
       "    </tr>\n",
       "    <tr>\n",
       "      <th>26</th>\n",
       "      <td>households</td>\n",
       "      <td>1257.4399999999987~inf</td>\n",
       "      <td>-0.313670</td>\n",
       "      <td>0.535186</td>\n",
       "      <td>7.0</td>\n",
       "    </tr>\n",
       "    <tr>\n",
       "      <th>27</th>\n",
       "      <td>households</td>\n",
       "      <td>248.0~260.0</td>\n",
       "      <td>0.442561</td>\n",
       "      <td>0.535186</td>\n",
       "      <td>19.0</td>\n",
       "    </tr>\n",
       "    <tr>\n",
       "      <th>28</th>\n",
       "      <td>households</td>\n",
       "      <td>260.0~853.0</td>\n",
       "      <td>-0.032829</td>\n",
       "      <td>0.535186</td>\n",
       "      <td>12.0</td>\n",
       "    </tr>\n",
       "    <tr>\n",
       "      <th>29</th>\n",
       "      <td>households</td>\n",
       "      <td>853.0~1257.4399999999987</td>\n",
       "      <td>0.237510</td>\n",
       "      <td>0.535186</td>\n",
       "      <td>16.0</td>\n",
       "    </tr>\n",
       "    <tr>\n",
       "      <th>30</th>\n",
       "      <td>housing_median_age</td>\n",
       "      <td>-inf~9.0</td>\n",
       "      <td>-0.238353</td>\n",
       "      <td>1.266568</td>\n",
       "      <td>4.0</td>\n",
       "    </tr>\n",
       "    <tr>\n",
       "      <th>31</th>\n",
       "      <td>housing_median_age</td>\n",
       "      <td>19.0~36.0</td>\n",
       "      <td>-0.033261</td>\n",
       "      <td>1.266568</td>\n",
       "      <td>11.0</td>\n",
       "    </tr>\n",
       "    <tr>\n",
       "      <th>32</th>\n",
       "      <td>housing_median_age</td>\n",
       "      <td>36.0~51.0</td>\n",
       "      <td>0.123922</td>\n",
       "      <td>1.266568</td>\n",
       "      <td>17.0</td>\n",
       "    </tr>\n",
       "    <tr>\n",
       "      <th>33</th>\n",
       "      <td>housing_median_age</td>\n",
       "      <td>51.0~52.0</td>\n",
       "      <td>1.127234</td>\n",
       "      <td>1.266568</td>\n",
       "      <td>53.0</td>\n",
       "    </tr>\n",
       "    <tr>\n",
       "      <th>34</th>\n",
       "      <td>housing_median_age</td>\n",
       "      <td>9.0~19.0</td>\n",
       "      <td>-0.607475</td>\n",
       "      <td>1.266568</td>\n",
       "      <td>-10.0</td>\n",
       "    </tr>\n",
       "    <tr>\n",
       "      <th>35</th>\n",
       "      <td>median_income</td>\n",
       "      <td>-inf~3.0083</td>\n",
       "      <td>-2.097070</td>\n",
       "      <td>0.931634</td>\n",
       "      <td>-44.0</td>\n",
       "    </tr>\n",
       "    <tr>\n",
       "      <th>36</th>\n",
       "      <td>median_income</td>\n",
       "      <td>3.0083~3.9669399999999992</td>\n",
       "      <td>-0.870713</td>\n",
       "      <td>0.931634</td>\n",
       "      <td>-11.0</td>\n",
       "    </tr>\n",
       "    <tr>\n",
       "      <th>37</th>\n",
       "      <td>median_income</td>\n",
       "      <td>3.9669399999999992~5.753465</td>\n",
       "      <td>-0.075948</td>\n",
       "      <td>0.931634</td>\n",
       "      <td>10.0</td>\n",
       "    </tr>\n",
       "    <tr>\n",
       "      <th>38</th>\n",
       "      <td>median_income</td>\n",
       "      <td>5.753465~7.7197</td>\n",
       "      <td>1.295348</td>\n",
       "      <td>0.931634</td>\n",
       "      <td>47.0</td>\n",
       "    </tr>\n",
       "    <tr>\n",
       "      <th>39</th>\n",
       "      <td>median_income</td>\n",
       "      <td>7.7197~inf</td>\n",
       "      <td>3.808660</td>\n",
       "      <td>0.931634</td>\n",
       "      <td>115.0</td>\n",
       "    </tr>\n",
       "  </tbody>\n",
       "</table>\n",
       "</div>"
      ],
      "text/plain": [
       "               feature                                    value       woe  \\\n",
       "0            longitude                              -118.37~inf -0.377563   \n",
       "1            longitude              -118.97999999999999~-118.37  1.351546   \n",
       "2            longitude  -121.58000000000001~-118.97999999999999 -1.629890   \n",
       "3            longitude              -122.62~-121.58000000000001  0.541220   \n",
       "4            longitude                             -inf~-122.62 -2.628949   \n",
       "5             latitude                               -inf~34.49  0.143969   \n",
       "6             latitude                              34.49~36.97 -1.756926   \n",
       "7             latitude                               36.97~37.6  0.931718   \n",
       "8             latitude                               37.6~37.99  0.304771   \n",
       "9             latitude                                37.99~inf -2.738997   \n",
       "10          population                               -inf~873.0  0.322442   \n",
       "11          population                            1529.0~3570.0 -0.325632   \n",
       "12          population                               3570.0~inf -0.859547   \n",
       "13          population                              873.0~992.0  0.139944   \n",
       "14          population                             992.0~1529.0 -0.074861   \n",
       "15      total_bedrooms                               -inf~335.0  0.053637   \n",
       "16      total_bedrooms                    2216.270000000004~inf -0.893279   \n",
       "17      total_bedrooms                              335.0~341.0 -0.669188   \n",
       "18      total_bedrooms                              341.0~685.0 -0.057945   \n",
       "19      total_bedrooms                  685.0~2216.270000000004  0.090923   \n",
       "20         total_rooms                               -inf~319.0 -0.037613   \n",
       "21         total_rooms                            1176.0~2012.0 -0.234270   \n",
       "22         total_rooms                            2012.0~2657.0  0.072155   \n",
       "23         total_rooms                               2657.0~inf  0.314325   \n",
       "24         total_rooms                             319.0~1176.0 -0.695164   \n",
       "25          households                               -inf~248.0  0.018522   \n",
       "26          households                   1257.4399999999987~inf -0.313670   \n",
       "27          households                              248.0~260.0  0.442561   \n",
       "28          households                              260.0~853.0 -0.032829   \n",
       "29          households                 853.0~1257.4399999999987  0.237510   \n",
       "30  housing_median_age                                 -inf~9.0 -0.238353   \n",
       "31  housing_median_age                                19.0~36.0 -0.033261   \n",
       "32  housing_median_age                                36.0~51.0  0.123922   \n",
       "33  housing_median_age                                51.0~52.0  1.127234   \n",
       "34  housing_median_age                                 9.0~19.0 -0.607475   \n",
       "35       median_income                              -inf~3.0083 -2.097070   \n",
       "36       median_income                3.0083~3.9669399999999992 -0.870713   \n",
       "37       median_income              3.9669399999999992~5.753465 -0.075948   \n",
       "38       median_income                          5.753465~7.7197  1.295348   \n",
       "39       median_income                               7.7197~inf  3.808660   \n",
       "\n",
       "        beta  score  \n",
       "0   0.631033    5.0  \n",
       "1   0.631033   37.0  \n",
       "2   0.631033  -17.0  \n",
       "3   0.631033   22.0  \n",
       "4   0.631033  -36.0  \n",
       "5   0.463244   14.0  \n",
       "6   0.463244  -11.0  \n",
       "7   0.463244   25.0  \n",
       "8   0.463244   16.0  \n",
       "9   0.463244  -24.0  \n",
       "10  2.433231   35.0  \n",
       "11  2.433231  -11.0  \n",
       "12  2.433231  -48.0  \n",
       "13  2.433231   22.0  \n",
       "14  2.433231    7.0  \n",
       "15  1.444781   14.0  \n",
       "16  1.444781  -25.0  \n",
       "17  1.444781  -16.0  \n",
       "18  1.444781   10.0  \n",
       "19  1.444781   16.0  \n",
       "20  2.330646   10.0  \n",
       "21  2.330646   -4.0  \n",
       "22  2.330646   17.0  \n",
       "23  2.330646   33.0  \n",
       "24  2.330646  -34.0  \n",
       "25  0.535186   13.0  \n",
       "26  0.535186    7.0  \n",
       "27  0.535186   19.0  \n",
       "28  0.535186   12.0  \n",
       "29  0.535186   16.0  \n",
       "30  1.266568    4.0  \n",
       "31  1.266568   11.0  \n",
       "32  1.266568   17.0  \n",
       "33  1.266568   53.0  \n",
       "34  1.266568  -10.0  \n",
       "35  0.931634  -44.0  \n",
       "36  0.931634  -11.0  \n",
       "37  0.931634   10.0  \n",
       "38  0.931634   47.0  \n",
       "39  0.931634  115.0  "
      ]
     },
     "execution_count": 16,
     "metadata": {},
     "output_type": "execute_result"
    }
   ],
   "source": [
    "model.woe_df_"
   ]
  },
  {
   "cell_type": "markdown",
   "metadata": {},
   "source": [
    "评分卡应该应用在初始的特征上（即未经离散化和WOE编码的特征数据）。"
   ]
  },
  {
   "cell_type": "code",
   "execution_count": 17,
   "metadata": {
    "ExecuteTime": {
     "end_time": "2019-08-11T14:59:03.919835Z",
     "start_time": "2019-08-11T14:58:57.404858Z"
    }
   },
   "outputs": [
    {
     "data": {
      "text/html": [
       "<div>\n",
       "<style scoped>\n",
       "    .dataframe tbody tr th:only-of-type {\n",
       "        vertical-align: middle;\n",
       "    }\n",
       "\n",
       "    .dataframe tbody tr th {\n",
       "        vertical-align: top;\n",
       "    }\n",
       "\n",
       "    .dataframe thead th {\n",
       "        text-align: right;\n",
       "    }\n",
       "</style>\n",
       "<table border=\"1\" class=\"dataframe\">\n",
       "  <thead>\n",
       "    <tr style=\"text-align: right;\">\n",
       "      <th></th>\n",
       "      <th>longitude</th>\n",
       "      <th>latitude</th>\n",
       "      <th>population</th>\n",
       "      <th>total_bedrooms</th>\n",
       "      <th>total_rooms</th>\n",
       "      <th>households</th>\n",
       "      <th>housing_median_age</th>\n",
       "      <th>median_income</th>\n",
       "      <th>TotalScore</th>\n",
       "    </tr>\n",
       "  </thead>\n",
       "  <tbody>\n",
       "    <tr>\n",
       "      <th>0</th>\n",
       "      <td>22.0</td>\n",
       "      <td>16.0</td>\n",
       "      <td>35.0</td>\n",
       "      <td>14.0</td>\n",
       "      <td>-34.0</td>\n",
       "      <td>13.0</td>\n",
       "      <td>17.0</td>\n",
       "      <td>115.0</td>\n",
       "      <td>198.0</td>\n",
       "    </tr>\n",
       "    <tr>\n",
       "      <th>1</th>\n",
       "      <td>22.0</td>\n",
       "      <td>16.0</td>\n",
       "      <td>-11.0</td>\n",
       "      <td>16.0</td>\n",
       "      <td>33.0</td>\n",
       "      <td>16.0</td>\n",
       "      <td>11.0</td>\n",
       "      <td>115.0</td>\n",
       "      <td>218.0</td>\n",
       "    </tr>\n",
       "    <tr>\n",
       "      <th>2</th>\n",
       "      <td>22.0</td>\n",
       "      <td>16.0</td>\n",
       "      <td>35.0</td>\n",
       "      <td>14.0</td>\n",
       "      <td>-4.0</td>\n",
       "      <td>13.0</td>\n",
       "      <td>53.0</td>\n",
       "      <td>47.0</td>\n",
       "      <td>196.0</td>\n",
       "    </tr>\n",
       "    <tr>\n",
       "      <th>3</th>\n",
       "      <td>22.0</td>\n",
       "      <td>16.0</td>\n",
       "      <td>35.0</td>\n",
       "      <td>14.0</td>\n",
       "      <td>-4.0</td>\n",
       "      <td>13.0</td>\n",
       "      <td>53.0</td>\n",
       "      <td>10.0</td>\n",
       "      <td>159.0</td>\n",
       "    </tr>\n",
       "    <tr>\n",
       "      <th>4</th>\n",
       "      <td>22.0</td>\n",
       "      <td>16.0</td>\n",
       "      <td>35.0</td>\n",
       "      <td>14.0</td>\n",
       "      <td>-4.0</td>\n",
       "      <td>19.0</td>\n",
       "      <td>53.0</td>\n",
       "      <td>-11.0</td>\n",
       "      <td>144.0</td>\n",
       "    </tr>\n",
       "  </tbody>\n",
       "</table>\n",
       "</div>"
      ],
      "text/plain": [
       "   longitude  latitude  population  total_bedrooms  total_rooms  households  \\\n",
       "0       22.0      16.0        35.0            14.0        -34.0        13.0   \n",
       "1       22.0      16.0       -11.0            16.0         33.0        16.0   \n",
       "2       22.0      16.0        35.0            14.0         -4.0        13.0   \n",
       "3       22.0      16.0        35.0            14.0         -4.0        13.0   \n",
       "4       22.0      16.0        35.0            14.0         -4.0        19.0   \n",
       "\n",
       "   housing_median_age  median_income  TotalScore  \n",
       "0                17.0          115.0       198.0  \n",
       "1                11.0          115.0       218.0  \n",
       "2                53.0           47.0       196.0  \n",
       "3                53.0           10.0       159.0  \n",
       "4                53.0          -11.0       144.0  "
      ]
     },
     "execution_count": 17,
     "metadata": {},
     "output_type": "execute_result"
    }
   ],
   "source": [
    "result = model.predict(X) # Scorecard should be applied on the original feature values\n",
    "result.head() # if model object's verbose parameter is set to False, predict will only return Total scores"
   ]
  },
  {
   "cell_type": "markdown",
   "metadata": {},
   "source": [
    "### 模型评估"
   ]
  },
  {
   "cell_type": "code",
   "execution_count": 18,
   "metadata": {
    "ExecuteTime": {
     "end_time": "2019-08-11T15:00:17.327767Z",
     "start_time": "2019-08-11T15:00:07.514702Z"
    }
   },
   "outputs": [
    {
     "name": "stdout",
     "output_type": "stream",
     "text": [
      "KS = 0.652\n"
     ]
    },
    {
     "data": {
      "image/png": "[encoded data removed]",
      "text/plain": [
       "<matplotlib.figure.Figure at 0x219388a58d0>"
      ]
     },
     "metadata": {},
     "output_type": "display_data"
    },
    {
     "name": "stdout",
     "output_type": "stream",
     "text": [
      "AUC: 0.9126749595837904\n"
     ]
    },
    {
     "data": {
      "image/png": "[encoded data removed]",
      "text/plain": [
       "<matplotlib.figure.Figure at 0x21937b4e470>"
      ]
     },
     "metadata": {},
     "output_type": "display_data"
    },
    {
     "data": {
      "image/png": "[encoded data removed]",
      "text/plain": [
       "<matplotlib.figure.Figure at 0x21938d00cf8>"
      ]
     },
     "metadata": {},
     "output_type": "display_data"
    }
   ],
   "source": [
    "me.plot_all(y, result['TotalScore'])"
   ]
  }
 ],
 "metadata": {
  "kernelspec": {
   "display_name": "Python 3",
   "language": "python",
   "name": "python3"
  },
  "language_info": {
   "codemirror_mode": {
    "name": "ipython",
    "version": 3
   },
   "file_extension": ".py",
   "mimetype": "text/x-python",
   "name": "python",
   "nbconvert_exporter": "python",
   "pygments_lexer": "ipython3",
   "version": "3.6.1"
  },
  "toc": {
   "base_numbering": 1,
   "nav_menu": {},
   "number_sections": true,
   "sideBar": true,
   "skip_h1_title": true,
   "title_cell": "目录",
   "title_sidebar": "目录",
   "toc_cell": true,
   "toc_position": {},
   "toc_section_display": true,
   "toc_window_display": true
  }
 },
 "nbformat": 4,
 "nbformat_minor": 2
}
